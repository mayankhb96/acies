{
 "cells": [
  {
   "cell_type": "code",
   "execution_count": null,
   "metadata": {},
   "outputs": [],
   "source": [
    "import requests\n",
    "import io \n",
    "import pandas as pd "
   ]
  },
  {
   "cell_type": "code",
   "execution_count": null,
   "metadata": {},
   "outputs": [],
   "source": [
    "fips_url = 'https://www.bls.gov/cew/classifications/areas/area-titles-csv.csv'\n",
    "estb_url = 'http://www.bls.gov/cew/data/api/2021/3/industry/6221.csv'\n",
    "ownc_url = 'https://www.bls.gov/cew/classifications/ownerships/sic-ownership-titles-csv.csv'"
   ]
  },
  {
   "cell_type": "code",
   "execution_count": null,
   "metadata": {},
   "outputs": [],
   "source": [
    "def get_dataframe(url: str)->pd.DataFrame:\n",
    "    \"\"\"\n",
    "    fetch data from url convert that data into dataframe\n",
    "    \n",
    "    Args:\n",
    "    ----\n",
    "    String : url \n",
    "             url of csv file \n",
    "    \n",
    "    Returns\n",
    "    ------\n",
    "    Dataframe\n",
    "\n",
    "    Example\n",
    "    --------\n",
    "    >>> ownc_url = 'https://www.bls.gov/cew/classifications/ownerships/sic-ownership-titles-csv.csv'\n",
    "    >>> df = get_dataframe(ownc_url)\n",
    "    >>> df\n",
    "    own_code\townership_title\n",
    "    0\t0\tTotal Covered\n",
    "    1\t5\tPrivate\n",
    "    2\t4\tInternational Government\n",
    "    3\t3\tLocal Government\n",
    "    4\t2\tState Government\n",
    "    5\t1\tFederal Government\n",
    "    \"\"\"\n",
    "    data = requests.get(url)\n",
    "    content = data.content\n",
    "    return pd.read_csv(io.StringIO(content.decode('utf-8')))"
   ]
  },
  {
   "cell_type": "code",
   "execution_count": null,
   "metadata": {},
   "outputs": [],
   "source": [
    "estb_df = get_dataframe(estb_url)\n",
    "# fips_df = get_dataframe(fips_url)\n",
    "# ownc_df = get_dataframe(ownc_url)\n",
    "ownc_df.rename(columns={'ownership_code':'own_code'}, inplace=True)\n",
    "fips_df['area_fips'] = fips_df['area_fips'].apply(lambda x : x if len(x)==5 else '0'+str(x) )\n",
    "estb_df = estb_df[['area_fips', 'own_code', 'qtrly_estabs','year','qtr']]\n",
    "df = estb_df.merge(fips_df, on=['area_fips'], how='left')\n",
    "df = df.merge(ownc_df, on=['own_code'], how='left')\n",
    "df.head()"
   ]
  },
  {
   "cell_type": "code",
   "execution_count": null,
   "metadata": {},
   "outputs": [],
   "source": [
    "ownc_df"
   ]
  },
  {
   "cell_type": "code",
   "execution_count": null,
   "metadata": {},
   "outputs": [],
   "source": []
  },
  {
   "cell_type": "code",
   "execution_count": null,
   "metadata": {},
   "outputs": [],
   "source": []
  },
  {
   "cell_type": "code",
   "execution_count": null,
   "metadata": {},
   "outputs": [],
   "source": []
  },
  {
   "cell_type": "markdown",
   "metadata": {},
   "source": [
    "# Combine files from a folder "
   ]
  },
  {
   "cell_type": "code",
   "execution_count": null,
   "metadata": {},
   "outputs": [],
   "source": [
    "from pathlib import Path\n",
    "import pandas as pd\n",
    "\n",
    "def combine_files_into_df(input_path_object, file_pattern):\n",
    "#     joined_list = Path().absolute().joinpath('orders').glob('*.csv')\n",
    "    joined_list = input_path_object.glob(file_pattern)\n",
    "    df = pd.concat(map(pd.read_csv, joined_list), ignore_index=True)\n",
    "    return df\n",
    "\n",
    "#Combining multiple quarters files\n",
    "df_2018 = combine_files_into_df(Path().absolute().joinpath('2018'),'*.csv')\n",
    "df_2019 = combine_files_into_df(Path().absolute().joinpath('2019'),'*.csv')\n",
    "df_2020 = combine_files_into_df(Path().absolute().joinpath('2020'),'*.csv')\n",
    "df_2021 = combine_files_into_df(Path().absolute().joinpath('2021'),'*.csv')\n",
    "\n",
    "#Combinig multiple years dataframe\n",
    "df_master = pd.concat([df_2018, df_2019, df_2020, df_2021], axis = 'rows')\n",
    "df_master.shape\n",
    "\n",
    "#exporting the master dataframe of all the years\n",
    "df_master.to_csv('output.csv')"
   ]
  },
  {
   "cell_type": "code",
   "execution_count": null,
   "metadata": {},
   "outputs": [],
   "source": []
  },
  {
   "cell_type": "code",
   "execution_count": null,
   "metadata": {},
   "outputs": [],
   "source": []
  },
  {
   "cell_type": "code",
   "execution_count": null,
   "metadata": {},
   "outputs": [],
   "source": []
  }
 ],
 "metadata": {
  "kernelspec": {
   "display_name": "Python 3",
   "language": "python",
   "name": "python3"
  },
  "language_info": {
   "codemirror_mode": {
    "name": "ipython",
    "version": 3
   },
   "file_extension": ".py",
   "mimetype": "text/x-python",
   "name": "python",
   "nbconvert_exporter": "python",
   "pygments_lexer": "ipython3",
   "version": "3.8.5"
  },
  "vscode": {
   "interpreter": {
    "hash": "370ea4a82d1344318592c6b397d7e83640921878dc08a69c614f2e5e129d4d1f"
   }
  }
 },
 "nbformat": 4,
 "nbformat_minor": 2
}
